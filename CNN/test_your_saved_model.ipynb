{
 "cells": [
  {
   "cell_type": "markdown",
   "metadata": {},
   "source": [
    "#### 1. Install Dependencies and Setup"
   ]
  },
  {
   "cell_type": "code",
   "execution_count": 1,
   "metadata": {},
   "outputs": [],
   "source": [
    "import numpy as np\n",
    "import pandas as pd\n",
    "import tensorflow as tf\n",
    "import matplotlib.pyplot as plt\n",
    "import os\n",
    "import cv2"
   ]
  },
  {
   "cell_type": "markdown",
   "metadata": {},
   "source": [
    "#### Load the model"
   ]
  },
  {
   "cell_type": "code",
   "execution_count": 2,
   "metadata": {},
   "outputs": [],
   "source": [
    "# Load the model\n",
    "loaded_model = tf.keras.models.load_model(r'your saved model path here')"
   ]
  },
  {
   "cell_type": "code",
   "execution_count": 3,
   "metadata": {},
   "outputs": [],
   "source": [
    "# Define paths\n",
    "path_test_saved_model = r'your path here'\n",
    "\n",
    "# Load images using the load_images function provided\n",
    "def load_images(path, label):\n",
    "    images = []\n",
    "    labels = []\n",
    "    data = []\n",
    "    for filename in os.listdir(path):\n",
    "        if filename.endswith('.png'):\n",
    "            img_path = os.path.join(path, filename)\n",
    "            img = cv2.imread(img_path, cv2.IMREAD_UNCHANGED)\n",
    "            img = cv2.cvtColor(img, cv2.COLOR_BGR2RGB)\n",
    "            if img is not None and img.shape == (600, 800, 3):\n",
    "                images.append(img)\n",
    "                labels.append(label)\n",
    "                data.append((img, label, filename))\n",
    "    df = pd.DataFrame(data, columns=['Image', 'Label', 'Filename'])\n",
    "    df.set_index('Filename', inplace=True)\n",
    "    return df\n",
    "\n",
    "# Load all images\n",
    "test_images_df = load_images(path_test_saved_model, 0) \n",
    "test_images_array = np.array(test_images_df['Image'].tolist())\n",
    "\n",
    "# Preprocessing function \n",
    "def preprocess_images(images, coords=[70, 108], crop_size=[465, 605], resize_shape=[256, 256]):\n",
    "    processed_images = []\n",
    "    for img in images:\n",
    "        cropped_img = img[coords[0]:(coords[0] + crop_size[0]), coords[1]:(coords[1] + crop_size[1])]\n",
    "        resized_img = cv2.resize(cropped_img, resize_shape, interpolation=cv2.INTER_AREA)\n",
    "        normalized_img = resized_img.astype(np.float32) / 255.0\n",
    "        processed_images.append(normalized_img)\n",
    "    return processed_images\n",
    "\n",
    "# Preprocess all images\n",
    "coords = [70, 108]\n",
    "crop_size = [465, 605]\n",
    "resize_shape = [256, 256]\n",
    "X_processed = preprocess_images(test_images_array, coords, crop_size, resize_shape)\n",
    "X_tensor = tf.convert_to_tensor(X_processed, dtype=tf.float32)"
   ]
  },
  {
   "cell_type": "code",
   "execution_count": 5,
   "metadata": {},
   "outputs": [],
   "source": [
    "def plot_images_with_probabilities(series, probabilities, save_dir):\n",
    "    probabilities = np.squeeze(probabilities)\n",
    "    num_images = len(series)\n",
    "\n",
    "    # Create the save directory if it doesn't exist\n",
    "    os.makedirs(save_dir, exist_ok=True)\n",
    "\n",
    "    for i in range(num_images):\n",
    "        img = series.iloc[i]\n",
    "        probability = float(probabilities[i])\n",
    "\n",
    "        # Create a new figure for each image\n",
    "        fig, ax = plt.subplots(figsize=(10, 10))\n",
    "        ax.imshow(img)\n",
    "        ax.axis('off')  # Hide axis\n",
    "\n",
    "        # Determine the color based on the probability\n",
    "        if probability >= 0.995:\n",
    "            color = 'green'\n",
    "        elif 0.20 < probability < 0.995:\n",
    "            color = 'darkorange'\n",
    "        else:\n",
    "            color = 'red'\n",
    "\n",
    "        prob_text = f\"{probability * 100:.4f}%\"\n",
    "        ax.text(0.05, 0.95, prob_text, color='white', fontsize=12,\n",
    "                transform=ax.transAxes, verticalalignment='top',\n",
    "                bbox=dict(facecolor=color, alpha=0.5))\n",
    "\n",
    "        # Save the individual image\n",
    "        save_path = os.path.join(save_dir, f\"spectrum_{i+1}.png\")\n",
    "        plt.savefig(save_path, format='png', dpi=300, bbox_inches='tight')\n",
    "        plt.close(fig)  # Close the figure to free up memory\n",
    "\n",
    "    print(f\"Saved {num_images} individual spectrum images in {save_dir}\")"
   ]
  },
  {
   "cell_type": "code",
   "execution_count": 6,
   "metadata": {},

   ],
   "source": [
    "# Predict probabilities\n",
    "y_pred_prob = loaded_model.predict(X_tensor)\n",
    "\n",
    "# Plot and save individual images with probabilities\n",
    "save_dir = r\"your path here _Alaline_test_images_results\"\n",
    "plot_images_with_probabilities(test_images_df['Image'], y_pred_prob, save_dir)"
   ]
  }
 ],
 "metadata": {
  "kernelspec": {
   "display_name": "Python 3",
   "language": "python",
   "name": "python3"
  },
  "language_info": {
   "codemirror_mode": {
    "name": "ipython",
    "version": 3
   },
   "file_extension": ".py",
   "mimetype": "text/x-python",
   "name": "python",
   "nbconvert_exporter": "python",
   "pygments_lexer": "ipython3",
   "version": "3.12.6"
  }
 },
 "nbformat": 4,
 "nbformat_minor": 2
}
